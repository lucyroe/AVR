{
 "cells": [
  {
   "cell_type": "markdown",
   "id": "41bea27a-d056-440b-b0ac-77393b47c418",
   "metadata": {},
   "source": [
    "# Exploration of `AVR`\n",
    "\n",
    "Running analyses and simulations of `AVR`\n",
    "\n",
    "___\n",
    "\n",
    "    Author:  Lucy Roellecke\n",
    "    Years:   2023\n",
    "\n",
    "___"
   ]
  },
  {
   "cell_type": "markdown",
   "id": "150a1546-d4d0-4e6c-97f0-32c5f16ab141",
   "metadata": {},
   "source": [
    "## Setup "
   ]
  },
  {
   "cell_type": "code",
   "execution_count": null,
   "id": "50e066cf-10a7-4b45-a200-18e045898290",
   "metadata": {},
   "outputs": [],
   "source": [
    "# Import my AVR package and other modules\n",
    "from pathlib import Path\n",
    "\n",
    "import numpy as np\n",
    "from AVR.configs import config, params, paths\n",
    "from AVR.preprocessing.freesurfer import foo\n",
    "\n",
    "# Note that the jupyter kernel must be set to your (conda) environment in order to import your package"
   ]
  },
  {
   "cell_type": "code",
   "execution_count": null,
   "id": "3867641f-84b1-4557-9264-a6858fe08e63",
   "metadata": {},
   "outputs": [],
   "source": [
    "# Set global vars & paths\n",
    "pass"
   ]
  },
  {
   "cell_type": "markdown",
   "id": "74e1579d-4481-4ee5-9b9f-8ed9d5871cfa",
   "metadata": {},
   "source": [
    "## Analyse "
   ]
  },
  {
   "cell_type": "code",
   "execution_count": null,
   "id": "2d686dec-24e9-4d4b-9820-853e883f319b",
   "metadata": {},
   "outputs": [],
   "source": [
    "print(\"Current WD:\", Path.cwd())\n",
    "print(f\"Access service x using my privat key: {config.service_x.api_key}\")\n",
    "\n",
    "foo()\n",
    "print(\"array:\", np.array([1, 2, 3]))\n",
    "\n",
    "print(f\"{paths.results.GLM}/{params.weight_decay}/\")"
   ]
  },
  {
   "cell_type": "code",
   "execution_count": null,
   "id": "06fe290d",
   "metadata": {},
   "outputs": [],
   "source": [
    "# List all nested paths\n",
    "paths.show()"
   ]
  },
  {
   "cell_type": "code",
   "execution_count": null,
   "id": "5646078e",
   "metadata": {},
   "outputs": [],
   "source": [
    "# Look for a specific parameter\n",
    "params.show()"
   ]
  },
  {
   "cell_type": "markdown",
   "id": "b0d45af0",
   "metadata": {},
   "source": [
    "### Intermediate summary\n",
    "This is a intermediate summary of the analysis.\n",
    "We find this and that ..."
   ]
  }
 ],
 "metadata": {
  "kernelspec": {
   "display_name": "Python 3",
   "language": "python",
   "name": "python3"
  },
  "language_info": {
   "codemirror_mode": {
    "name": "ipython",
    "version": 3
   },
   "file_extension": ".py",
   "mimetype": "text/x-python",
   "name": "python",
   "nbconvert_exporter": "python",
   "pygments_lexer": "ipython3",
   "version": "3.8.1"
  }
 },
 "nbformat": 4,
 "nbformat_minor": 5
}
